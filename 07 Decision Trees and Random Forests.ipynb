{
 "cells": [
  {
   "cell_type": "markdown",
   "metadata": {},
   "source": [
    "<img align=\"center\" src=\"http://sydney.edu.au/images/content/about/logo-mono.jpg\">\n",
    "<h1 align=\"center\" style=\"margin-top:10px\">Statistical Learning with Python</h1>\n",
    "<h2 align=\"center\" style=\"margin-top:20px\">Lecture 7: Decision Trees and Random Forests</h2>\n",
    "<br>\n",
    "\n",
    "\n",
    "<a href=\"#1.-German-Credit-Risk-Data\">German Credit Risk Data</a> <br>\n",
    "<a href=\"#2.-Decision-Analysis\">Decision Analysis</a> <br>\n",
    "<a href=\"#3.-Exploratory-Data-Analysis\">Exploratory Data Analysis</a> <br>\n",
    "<a href=\"#4.-Feature-Engineering\">Feature Engineering</a> <br>\n",
    "<a href=\"#5.-Decision-Tree\">Decision Tree</a> <br>\n",
    "<a href=\"#6.-Bagging\">Bagging</a> <br>\n",
    "<a href=\"#7.-Random-Forest\">Random Forest</a> <br>\n",
    "<a href=\"#8.-Model-Evaluation\">Model Evaluation</a> <br>\n",
    "\n",
    "This notebook relies on the following libraries and settings."
   ]
  },
  {
   "cell_type": "code",
   "execution_count": 1,
   "metadata": {},
   "outputs": [],
   "source": [
    "# Packages\n",
    "import pandas as pd\n",
    "import numpy as np\n",
    "import matplotlib.pyplot as plt\n",
    "import seaborn as sns\n",
    "import warnings\n",
    "warnings.filterwarnings('ignore') "
   ]
  },
  {
   "cell_type": "code",
   "execution_count": 2,
   "metadata": {},
   "outputs": [],
   "source": [
    "# Plot settings\n",
    "sns.set_context('notebook') # optimises figures for notebook display\n",
    "sns.set_style('ticks') # set default plot style\n",
    "crayon = ['#4E79A7','#F28E2C','#E15759','#76B7B2','#59A14F', \n",
    "          '#EDC949','#AF7AA1','#FF9DA7','#9C755F','#BAB0AB']\n",
    "sns.set_palette(crayon) # set custom color scheme\n",
    "%matplotlib inline\n",
    "plt.rcParams['figure.figsize'] = (9, 6)"
   ]
  },
  {
   "cell_type": "code",
   "execution_count": 3,
   "metadata": {},
   "outputs": [],
   "source": [
    "# Methods\n",
    "from sklearn.linear_model import LogisticRegression\n",
    "\n",
    "# Model selection and evaluation tools\n",
    "from sklearn.model_selection import train_test_split\n",
    "from sklearn.model_selection import GridSearchCV, RandomizedSearchCV, cross_val_predict\n",
    "from skopt.space import Real, Categorical, Integer\n",
    "from skopt import BayesSearchCV\n",
    "from sklearn.metrics import accuracy_score, confusion_matrix, roc_auc_score\n",
    "from sklearn.metrics import precision_score, average_precision_score, log_loss"
   ]
  },
  {
   "cell_type": "markdown",
   "metadata": {},
   "source": [
    "### 1. German Credit Risk Data\n",
    "\n",
    "**1.1 Loading the Data**"
   ]
  },
  {
   "cell_type": "code",
   "execution_count": 4,
   "metadata": {},
   "outputs": [
    {
     "data": {
      "text/html": [
       "<div>\n",
       "<style scoped>\n",
       "    .dataframe tbody tr th:only-of-type {\n",
       "        vertical-align: middle;\n",
       "    }\n",
       "\n",
       "    .dataframe tbody tr th {\n",
       "        vertical-align: top;\n",
       "    }\n",
       "\n",
       "    .dataframe thead th {\n",
       "        text-align: right;\n",
       "    }\n",
       "</style>\n",
       "<table border=\"1\" class=\"dataframe\">\n",
       "  <thead>\n",
       "    <tr style=\"text-align: right;\">\n",
       "      <th></th>\n",
       "      <th>status</th>\n",
       "      <th>duration</th>\n",
       "      <th>history</th>\n",
       "      <th>purpose</th>\n",
       "      <th>amount</th>\n",
       "      <th>savings</th>\n",
       "      <th>employment</th>\n",
       "      <th>installment_rate</th>\n",
       "      <th>personal</th>\n",
       "      <th>other_debtors</th>\n",
       "      <th>...</th>\n",
       "      <th>property</th>\n",
       "      <th>age</th>\n",
       "      <th>other_installment_plans</th>\n",
       "      <th>housing</th>\n",
       "      <th>existing_credits</th>\n",
       "      <th>job</th>\n",
       "      <th>people_under_maintenance</th>\n",
       "      <th>telephone</th>\n",
       "      <th>foreign_worker</th>\n",
       "      <th>default</th>\n",
       "    </tr>\n",
       "  </thead>\n",
       "  <tbody>\n",
       "    <tr>\n",
       "      <th>0</th>\n",
       "      <td>A11</td>\n",
       "      <td>6</td>\n",
       "      <td>A34</td>\n",
       "      <td>A43</td>\n",
       "      <td>1169</td>\n",
       "      <td>A65</td>\n",
       "      <td>A75</td>\n",
       "      <td>4</td>\n",
       "      <td>A93</td>\n",
       "      <td>A101</td>\n",
       "      <td>...</td>\n",
       "      <td>A121</td>\n",
       "      <td>67</td>\n",
       "      <td>A143</td>\n",
       "      <td>A152</td>\n",
       "      <td>2</td>\n",
       "      <td>A173</td>\n",
       "      <td>1</td>\n",
       "      <td>1</td>\n",
       "      <td>1</td>\n",
       "      <td>0</td>\n",
       "    </tr>\n",
       "    <tr>\n",
       "      <th>1</th>\n",
       "      <td>A12</td>\n",
       "      <td>48</td>\n",
       "      <td>A32</td>\n",
       "      <td>A43</td>\n",
       "      <td>5951</td>\n",
       "      <td>A61</td>\n",
       "      <td>A73</td>\n",
       "      <td>2</td>\n",
       "      <td>A92</td>\n",
       "      <td>A101</td>\n",
       "      <td>...</td>\n",
       "      <td>A121</td>\n",
       "      <td>22</td>\n",
       "      <td>A143</td>\n",
       "      <td>A152</td>\n",
       "      <td>1</td>\n",
       "      <td>A173</td>\n",
       "      <td>1</td>\n",
       "      <td>0</td>\n",
       "      <td>1</td>\n",
       "      <td>1</td>\n",
       "    </tr>\n",
       "    <tr>\n",
       "      <th>2</th>\n",
       "      <td>A14</td>\n",
       "      <td>12</td>\n",
       "      <td>A34</td>\n",
       "      <td>A46</td>\n",
       "      <td>2096</td>\n",
       "      <td>A61</td>\n",
       "      <td>A74</td>\n",
       "      <td>2</td>\n",
       "      <td>A93</td>\n",
       "      <td>A101</td>\n",
       "      <td>...</td>\n",
       "      <td>A121</td>\n",
       "      <td>49</td>\n",
       "      <td>A143</td>\n",
       "      <td>A152</td>\n",
       "      <td>1</td>\n",
       "      <td>A172</td>\n",
       "      <td>2</td>\n",
       "      <td>0</td>\n",
       "      <td>1</td>\n",
       "      <td>0</td>\n",
       "    </tr>\n",
       "    <tr>\n",
       "      <th>3</th>\n",
       "      <td>A11</td>\n",
       "      <td>42</td>\n",
       "      <td>A32</td>\n",
       "      <td>A42</td>\n",
       "      <td>7882</td>\n",
       "      <td>A61</td>\n",
       "      <td>A74</td>\n",
       "      <td>2</td>\n",
       "      <td>A93</td>\n",
       "      <td>A103</td>\n",
       "      <td>...</td>\n",
       "      <td>A122</td>\n",
       "      <td>45</td>\n",
       "      <td>A143</td>\n",
       "      <td>A153</td>\n",
       "      <td>1</td>\n",
       "      <td>A173</td>\n",
       "      <td>2</td>\n",
       "      <td>0</td>\n",
       "      <td>1</td>\n",
       "      <td>0</td>\n",
       "    </tr>\n",
       "    <tr>\n",
       "      <th>4</th>\n",
       "      <td>A11</td>\n",
       "      <td>24</td>\n",
       "      <td>A33</td>\n",
       "      <td>A40</td>\n",
       "      <td>4870</td>\n",
       "      <td>A61</td>\n",
       "      <td>A73</td>\n",
       "      <td>3</td>\n",
       "      <td>A93</td>\n",
       "      <td>A101</td>\n",
       "      <td>...</td>\n",
       "      <td>A124</td>\n",
       "      <td>53</td>\n",
       "      <td>A143</td>\n",
       "      <td>A153</td>\n",
       "      <td>2</td>\n",
       "      <td>A173</td>\n",
       "      <td>2</td>\n",
       "      <td>0</td>\n",
       "      <td>1</td>\n",
       "      <td>1</td>\n",
       "    </tr>\n",
       "  </tbody>\n",
       "</table>\n",
       "<p>5 rows × 21 columns</p>\n",
       "</div>"
      ],
      "text/plain": [
       "  status  duration history purpose  amount savings employment  \\\n",
       "0    A11         6     A34     A43    1169     A65        A75   \n",
       "1    A12        48     A32     A43    5951     A61        A73   \n",
       "2    A14        12     A34     A46    2096     A61        A74   \n",
       "3    A11        42     A32     A42    7882     A61        A74   \n",
       "4    A11        24     A33     A40    4870     A61        A73   \n",
       "\n",
       "   installment_rate personal other_debtors  ...  property age  \\\n",
       "0                 4      A93          A101  ...      A121  67   \n",
       "1                 2      A92          A101  ...      A121  22   \n",
       "2                 2      A93          A101  ...      A121  49   \n",
       "3                 2      A93          A103  ...      A122  45   \n",
       "4                 3      A93          A101  ...      A124  53   \n",
       "\n",
       "   other_installment_plans housing existing_credits   job  \\\n",
       "0                     A143    A152                2  A173   \n",
       "1                     A143    A152                1  A173   \n",
       "2                     A143    A152                1  A172   \n",
       "3                     A143    A153                1  A173   \n",
       "4                     A143    A153                2  A173   \n",
       "\n",
       "  people_under_maintenance  telephone  foreign_worker  default  \n",
       "0                        1          1               1        0  \n",
       "1                        1          0               1        1  \n",
       "2                        2          0               1        0  \n",
       "3                        2          0               1        0  \n",
       "4                        2          0               1        1  \n",
       "\n",
       "[5 rows x 21 columns]"
      ]
     },
     "execution_count": 4,
     "metadata": {},
     "output_type": "execute_result"
    }
   ],
   "source": [
    "data = pd.read_csv('Data/german_credit.csv')\n",
    "data.head()"
   ]
  },
  {
   "cell_type": "markdown",
   "metadata": {},
   "source": [
    "There are 13 categorical predictors (two of them binary and already coded numerically) and 7 numerical predictors in the dataset. Refer to the documentation for the explanation of the variables and the meaning of the values for the categorical variables. "
   ]
  },
  {
   "cell_type": "code",
   "execution_count": 5,
   "metadata": {},
   "outputs": [
    {
     "data": {
      "text/plain": [
       "categorical    11\n",
       "discrete        4\n",
       "continuous      3\n",
       "binary          2\n",
       "response        1\n",
       "Name: type, dtype: int64"
      ]
     },
     "execution_count": 5,
     "metadata": {},
     "output_type": "execute_result"
    }
   ],
   "source": [
    "variables = pd.read_csv('Data/german_credit_variables.csv', index_col='variable')\n",
    "variables = variables['type']\n",
    "\n",
    "continuous = variables[variables == 'continuous'].index.tolist()\n",
    "discrete = variables[variables == 'discrete'].index.tolist()\n",
    "categorical = variables[variables == 'categorical'].index.tolist()\n",
    "binary = variables[variables == 'binary'].index.tolist()\n",
    "response = variables[variables == 'response'].index.tolist()\n",
    "   \n",
    "variables.value_counts()"
   ]
  },
  {
   "cell_type": "markdown",
   "metadata": {},
   "source": [
    "**1.2 Data Splitting**\n",
    "\n",
    "As always, we need to split the data before exploratory data analysis. For now we only need to create the unprocessed training dataset. "
   ]
  },
  {
   "cell_type": "code",
   "execution_count": 6,
   "metadata": {},
   "outputs": [],
   "source": [
    "index_train, index_test  = train_test_split(np.array(data.index), stratify=data[response], \n",
    "                                            train_size=0.7, random_state=5)\n",
    "train = data.loc[index_train,:].copy()"
   ]
  },
  {
   "cell_type": "markdown",
   "metadata": {},
   "source": [
    "### 2. Decision Analysis\n",
    "\n",
    "The dataset description specifies the loss matrix as follows: if we predict a default but the customer is a good credit, the loss is one.  If we predict that the customer is a good credit but there is a default, the loss is 5. The loss for a correct classification is zero. \n",
    "\n",
    "In the terminology of the lectures, the loss from a false positive is 1, the loss from a false negative is 5, and the loss from true positives and true negatives is zero. \n",
    "\n",
    "Using the formula from the lectures, the decision threshould therefore is: "
   ]
  },
  {
   "cell_type": "code",
   "execution_count": 7,
   "metadata": {},
   "outputs": [
    {
     "name": "stdout",
     "output_type": "stream",
     "text": [
      "Decision threshold: tau=0.167\n"
     ]
    }
   ],
   "source": [
    "tau = 1/(1+5)\n",
    "print(f'Decision threshold: tau={round(tau,3)}')"
   ]
  },
  {
   "cell_type": "markdown",
   "metadata": {},
   "source": [
    "### 3. Exploratory Data Analysis\n",
    "\n",
    "We have 30% of observations in the training data correspond to defaults. "
   ]
  },
  {
   "cell_type": "code",
   "execution_count": 8,
   "metadata": {},
   "outputs": [
    {
     "data": {
      "text/plain": [
       "0    0.7\n",
       "1    0.3\n",
       "Name: default, dtype: float64"
      ]
     },
     "execution_count": 8,
     "metadata": {},
     "output_type": "execute_result"
    }
   ],
   "source": [
    "train['default'].value_counts(normalize=True)"
   ]
  },
  {
   "cell_type": "markdown",
   "metadata": {},
   "source": [
    "The descriptive statistics allows us to verify that there are no missing values or apparent errors in the numerical variables."
   ]
  },
  {
   "cell_type": "code",
   "execution_count": 9,
   "metadata": {},
   "outputs": [
    {
     "data": {
      "text/html": [
       "<div>\n",
       "<style scoped>\n",
       "    .dataframe tbody tr th:only-of-type {\n",
       "        vertical-align: middle;\n",
       "    }\n",
       "\n",
       "    .dataframe tbody tr th {\n",
       "        vertical-align: top;\n",
       "    }\n",
       "\n",
       "    .dataframe thead th {\n",
       "        text-align: right;\n",
       "    }\n",
       "</style>\n",
       "<table border=\"1\" class=\"dataframe\">\n",
       "  <thead>\n",
       "    <tr style=\"text-align: right;\">\n",
       "      <th></th>\n",
       "      <th>duration</th>\n",
       "      <th>amount</th>\n",
       "      <th>installment_rate</th>\n",
       "      <th>residence</th>\n",
       "      <th>age</th>\n",
       "      <th>existing_credits</th>\n",
       "      <th>people_under_maintenance</th>\n",
       "      <th>telephone</th>\n",
       "      <th>foreign_worker</th>\n",
       "      <th>default</th>\n",
       "    </tr>\n",
       "  </thead>\n",
       "  <tbody>\n",
       "    <tr>\n",
       "      <th>count</th>\n",
       "      <td>700.00</td>\n",
       "      <td>700.00</td>\n",
       "      <td>700.00</td>\n",
       "      <td>700.00</td>\n",
       "      <td>700.00</td>\n",
       "      <td>700.00</td>\n",
       "      <td>700.00</td>\n",
       "      <td>700.00</td>\n",
       "      <td>700.00</td>\n",
       "      <td>700.00</td>\n",
       "    </tr>\n",
       "    <tr>\n",
       "      <th>mean</th>\n",
       "      <td>21.12</td>\n",
       "      <td>3346.50</td>\n",
       "      <td>2.97</td>\n",
       "      <td>2.84</td>\n",
       "      <td>35.67</td>\n",
       "      <td>1.43</td>\n",
       "      <td>1.16</td>\n",
       "      <td>0.41</td>\n",
       "      <td>0.97</td>\n",
       "      <td>0.30</td>\n",
       "    </tr>\n",
       "    <tr>\n",
       "      <th>std</th>\n",
       "      <td>12.26</td>\n",
       "      <td>2870.26</td>\n",
       "      <td>1.13</td>\n",
       "      <td>1.11</td>\n",
       "      <td>11.60</td>\n",
       "      <td>0.59</td>\n",
       "      <td>0.37</td>\n",
       "      <td>0.49</td>\n",
       "      <td>0.18</td>\n",
       "      <td>0.46</td>\n",
       "    </tr>\n",
       "    <tr>\n",
       "      <th>min</th>\n",
       "      <td>4.00</td>\n",
       "      <td>250.00</td>\n",
       "      <td>1.00</td>\n",
       "      <td>1.00</td>\n",
       "      <td>20.00</td>\n",
       "      <td>1.00</td>\n",
       "      <td>1.00</td>\n",
       "      <td>0.00</td>\n",
       "      <td>0.00</td>\n",
       "      <td>0.00</td>\n",
       "    </tr>\n",
       "    <tr>\n",
       "      <th>25%</th>\n",
       "      <td>12.00</td>\n",
       "      <td>1364.00</td>\n",
       "      <td>2.00</td>\n",
       "      <td>2.00</td>\n",
       "      <td>27.00</td>\n",
       "      <td>1.00</td>\n",
       "      <td>1.00</td>\n",
       "      <td>0.00</td>\n",
       "      <td>1.00</td>\n",
       "      <td>0.00</td>\n",
       "    </tr>\n",
       "    <tr>\n",
       "      <th>50%</th>\n",
       "      <td>18.00</td>\n",
       "      <td>2339.50</td>\n",
       "      <td>3.00</td>\n",
       "      <td>3.00</td>\n",
       "      <td>33.00</td>\n",
       "      <td>1.00</td>\n",
       "      <td>1.00</td>\n",
       "      <td>0.00</td>\n",
       "      <td>1.00</td>\n",
       "      <td>0.00</td>\n",
       "    </tr>\n",
       "    <tr>\n",
       "      <th>75%</th>\n",
       "      <td>24.00</td>\n",
       "      <td>4151.50</td>\n",
       "      <td>4.00</td>\n",
       "      <td>4.00</td>\n",
       "      <td>42.00</td>\n",
       "      <td>2.00</td>\n",
       "      <td>1.00</td>\n",
       "      <td>1.00</td>\n",
       "      <td>1.00</td>\n",
       "      <td>1.00</td>\n",
       "    </tr>\n",
       "    <tr>\n",
       "      <th>max</th>\n",
       "      <td>60.00</td>\n",
       "      <td>15945.00</td>\n",
       "      <td>4.00</td>\n",
       "      <td>4.00</td>\n",
       "      <td>75.00</td>\n",
       "      <td>4.00</td>\n",
       "      <td>2.00</td>\n",
       "      <td>1.00</td>\n",
       "      <td>1.00</td>\n",
       "      <td>1.00</td>\n",
       "    </tr>\n",
       "  </tbody>\n",
       "</table>\n",
       "</div>"
      ],
      "text/plain": [
       "       duration    amount  installment_rate  residence     age  \\\n",
       "count    700.00    700.00            700.00     700.00  700.00   \n",
       "mean      21.12   3346.50              2.97       2.84   35.67   \n",
       "std       12.26   2870.26              1.13       1.11   11.60   \n",
       "min        4.00    250.00              1.00       1.00   20.00   \n",
       "25%       12.00   1364.00              2.00       2.00   27.00   \n",
       "50%       18.00   2339.50              3.00       3.00   33.00   \n",
       "75%       24.00   4151.50              4.00       4.00   42.00   \n",
       "max       60.00  15945.00              4.00       4.00   75.00   \n",
       "\n",
       "       existing_credits  people_under_maintenance  telephone  foreign_worker  \\\n",
       "count            700.00                    700.00     700.00          700.00   \n",
       "mean               1.43                      1.16       0.41            0.97   \n",
       "std                0.59                      0.37       0.49            0.18   \n",
       "min                1.00                      1.00       0.00            0.00   \n",
       "25%                1.00                      1.00       0.00            1.00   \n",
       "50%                1.00                      1.00       0.00            1.00   \n",
       "75%                2.00                      1.00       1.00            1.00   \n",
       "max                4.00                      2.00       1.00            1.00   \n",
       "\n",
       "       default  \n",
       "count   700.00  \n",
       "mean      0.30  \n",
       "std       0.46  \n",
       "min       0.00  \n",
       "25%       0.00  \n",
       "50%       0.00  \n",
       "75%       1.00  \n",
       "max       1.00  "
      ]
     },
     "execution_count": 9,
     "metadata": {},
     "output_type": "execute_result"
    }
   ],
   "source": [
    "train.describe().round(2)"
   ]
  },
  {
   "cell_type": "markdown",
   "metadata": {},
   "source": [
    "As common in this type of data, some of the continuous variables are skewed. "
   ]
  },
  {
   "cell_type": "code",
   "execution_count": 10,
   "metadata": {},
   "outputs": [
    {
     "data": {
      "image/png": "[encoded data removed]",
      "text/plain": [
       "<Figure size 864x216 with 3 Axes>"
      ]
     },
     "metadata": {
      "needs_background": "light"
     },
     "output_type": "display_data"
    }
   ],
   "source": [
    "from statlearning import distplots\n",
    "distplots(train[continuous]) \n",
    "plt.show()"
   ]
  },
  {
   "cell_type": "markdown",
   "metadata": {},
   "source": [
    "The duration and amount of the loan seem to have a relevant positive association with the default rates."
   ]
  },
  {
   "cell_type": "code",
   "execution_count": 11,
   "metadata": {},
   "outputs": [
    {
     "data": {
      "image/png": "[encoded data removed]",
      "text/plain": [
       "<Figure size 864x198 with 3 Axes>"
      ]
     },
     "metadata": {},
     "output_type": "display_data"
    }
   ],
   "source": [
    "from statlearning import plot_logistic_regressions\n",
    "fig, ax = plot_logistic_regressions(train[continuous], train['default'])\n",
    "plt.show()"
   ]
  },
  {
   "cell_type": "markdown",
   "metadata": {},
   "source": [
    "The following bar plots allow us to visualise the relationship between defaults and the remaining variables. Certain variables, such as the status of existing checking account, saving, credit history, and whether the client is a foreign worker seem to have an important association with default rates."
   ]
  },
  {
   "cell_type": "code",
   "execution_count": 14,
   "metadata": {},
   "outputs": [
    {
     "data": {
      "image/png": "[encoded data removed]",
      "text/plain": [
       "<Figure size 864x1296 with 17 Axes>"
      ]
     },
     "metadata": {
      "needs_background": "light"
     },
     "output_type": "display_data"
    }
   ],
   "source": [
    "from statlearning import crosstabplots\n",
    "crosstabplots(train[discrete + categorical + binary], train['default'])\n",
    "plt.show()"
   ]
  },
  {
   "cell_type": "markdown",
   "metadata": {},
   "source": [
    "### 4. Feature Engineering\n",
    "\n",
    "**4.1 Tree-based methods**\n",
    "\n",
    "As mentioned in the lectures, we generally want to process the data in a specialised way for tree-based methods. Based on the variable descriptions, some of the predictors are ordinal. We use ordinal encoding for these variables (it's useful to confirm that this makes sense using the EDA plots). The other categorical variables are nominal, such that we apply one-hot encoding. \n",
    "\n",
    "We code this process as follows."
   ]
  },
  {
   "cell_type": "code",
   "execution_count": 15,
   "metadata": {},
   "outputs": [],
   "source": [
    "def feat_engineering_tree(original_data, variables, index_train, index_test):\n",
    "    \n",
    "    data = original_data.copy()\n",
    "    \n",
    "    continuous = variables[variables == 'continuous'].index.tolist()\n",
    "    discrete = variables[variables == 'discrete'].index.tolist()\n",
    "    ordinal = []\n",
    "    binary = variables[variables == 'binary'].index.tolist()\n",
    "    response = variables[variables == 'response'].index.values[0]\n",
    "   \n",
    "    # Status of existing checking account (nominal -> ordinal encoding)\n",
    "    label = 'status'\n",
    "    keys = {\n",
    "    'A11': 1,\n",
    "    'A12': 2,\n",
    "    'A13': 3,\n",
    "    'A14': 4,\n",
    "    }\n",
    "    data[label] = (data[label].replace(keys)).astype(int)\n",
    "    ordinal.append(label)\n",
    "    \n",
    "     # Savings accounts/bonds (nominal -> ordinal encoding)\n",
    "    label = 'savings'\n",
    "    keys = {\n",
    "    'A61': 1,\n",
    "    'A62': 2,\n",
    "    'A63': 3,\n",
    "    'A64': 4,\n",
    "    'A65': 0,\n",
    "    }\n",
    "    data[label] = (data[label].replace(keys)).astype(int)\n",
    "    ordinal.append(label)\n",
    "    \n",
    "    # Job (nominal -> ordinal encoding)\n",
    "    label = 'job'\n",
    "    keys = {\n",
    "    'A171': 1,\n",
    "    'A172': 2,\n",
    "    'A173': 3,\n",
    "    'A174': 4,\n",
    "    }\n",
    "    data[label] = (data[label].replace(keys)).astype(int)\n",
    "    ordinal.append(label)\n",
    "\n",
    "    # Credit History (nominal -> ordinal encoding)\n",
    "    label = 'history'\n",
    "    data[label] = data[label].str[-1].astype(int)\n",
    "    ordinal.append(label)\n",
    "    \n",
    "    # Present employment since(nominal -> ordinal encoding)\n",
    "    label = 'employment'\n",
    "    data[label] = data[label].str[-1].astype(int)\n",
    "    \n",
    "     # Property (nominal -> ordinal encoding)\n",
    "    label = 'property'\n",
    "    data[label] = np.abs(data[label].str[-1].astype(int)-4)\n",
    "    ordinal.append(label)\n",
    "\n",
    "    # nominal -> one-hot encoding\n",
    "    labels = ['purpose', 'personal', 'other_debtors', 'other_installment_plans', 'housing']\n",
    "    for label in labels:\n",
    "        dummies = pd.get_dummies(data[label], prefix=label)\n",
    "        data=data.join(dummies)\n",
    "        binary += list(dummies.columns)\n",
    "    \n",
    "    # Constructing the final dataset\n",
    "    predictors =  continuous + discrete + ordinal + binary\n",
    "    X_train = data.loc[index_train, predictors].to_numpy()\n",
    "    X_test = data.loc[index_test, predictors].to_numpy()\n",
    "\n",
    "    y_train = data.loc[index_train, response].to_numpy()\n",
    "    y_test = data.loc[index_test, response].to_numpy()\n",
    "    \n",
    "    return X_train, y_train, X_test, y_test, predictors"
   ]
  },
  {
   "cell_type": "markdown",
   "metadata": {},
   "source": [
    "Running the function prepares the dataset for the tree-based methods. "
   ]
  },
  {
   "cell_type": "code",
   "execution_count": 16,
   "metadata": {},
   "outputs": [],
   "source": [
    "X_train, y_train, X_test, y_test, predictors = feat_engineering_tree(data, variables, index_train, index_test)"
   ]
  },
  {
   "cell_type": "markdown",
   "metadata": {},
   "source": [
    "**4.2 Logistic Regression**\n",
    "\n",
    "The feature engineering processing needs to be different for a logistic regression, which we will adopt as a benchmark. In this case, we use dummy encoding for all the discrete and categorical (ordinal and nominal) variables. There is no one-hot encoding to avoid perfect multicollinearity.\n",
    "\n",
    "Furthermore, we consider a Yeo-Johnson transformation of the credit amount (recall that this is unnecessary for the tree-based methods, which are invariant to monotonic transformations of the inputs). "
   ]
  },
  {
   "cell_type": "code",
   "execution_count": 17,
   "metadata": {},
   "outputs": [],
   "source": [
    "from sklearn.preprocessing import PowerTransformer, StandardScaler\n",
    "\n",
    "def feat_engineering_logistic(original_data, variables, index_train, index_test):\n",
    "    \n",
    "    data = original_data.copy()\n",
    "    \n",
    "    continuous = variables[variables == 'continuous'].index.tolist()\n",
    "    discrete = variables[variables == 'discrete'].index.tolist()\n",
    "    categorical = variables[variables == 'categorical'].index.tolist()\n",
    "    binary = variables[variables == 'binary'].index.tolist()\n",
    "    response = variables[variables == 'response'].index.tolist()\n",
    "    \n",
    "    # Dummy encoding for all discrete and categorical variables\n",
    "    labels = discrete + categorical \n",
    "    for label in labels:\n",
    "        dummies = pd.get_dummies(data[label], prefix=label, drop_first=True)\n",
    "        data=data.join(dummies)\n",
    "        binary += list(dummies.columns)\n",
    "    \n",
    "    # Note that we fit the Yeo-Johnson transformation based only on the training data.\n",
    "    # Otherwise, we'd be doing semi-supervised, not supervised learning. \n",
    "    # For a Kaggle competition, however, it's ok (in fact better) to do semi-supervised. \n",
    "    transf = PowerTransformer(method='yeo-johnson').fit(data.loc[index_train, ['amount']])\n",
    "    data['amount'] = transf.transform(data[['amount']])\n",
    "    \n",
    "    predictors = continuous + binary\n",
    "    scaler = StandardScaler().fit(data.loc[index_train, predictors])\n",
    "    data[predictors] = scaler.transform(data[predictors])\n",
    "    \n",
    "    X_train = data.loc[index_train, predictors].to_numpy()\n",
    "    X_test = data.loc[index_test, predictors].to_numpy()\n",
    "\n",
    "    y_train = data.loc[index_train, response].to_numpy()\n",
    "    y_test = data.loc[index_test, response].to_numpy()\n",
    "    \n",
    "    return X_train, y_train, X_test, y_test\n",
    "\n",
    "X_train_logit, _, X_test_logit, _ = feat_engineering_logistic(data, variables, index_train, index_test)"
   ]
  },
  {
   "cell_type": "markdown",
   "metadata": {},
   "source": [
    "### 5. Decision Tree\n",
    "\n",
    "The basic syntax for fitting a classification tree is as follows. We start with a small tree for visualisation."
   ]
  },
  {
   "cell_type": "code",
   "execution_count": 18,
   "metadata": {},
   "outputs": [
    {
     "data": {
      "text/plain": [
       "DecisionTreeClassifier(class_weight=None, criterion='entropy', max_depth=2,\n",
       "            max_features=None, max_leaf_nodes=None,\n",
       "            min_impurity_decrease=0.0, min_impurity_split=None,\n",
       "            min_samples_leaf=1, min_samples_split=2,\n",
       "            min_weight_fraction_leaf=0.0, presort=False, random_state=None,\n",
       "            splitter='best')"
      ]
     },
     "execution_count": 18,
     "metadata": {},
     "output_type": "execute_result"
    }
   ],
   "source": [
    "from sklearn.tree import DecisionTreeClassifier\n",
    "tree = DecisionTreeClassifier(criterion='entropy', max_depth=2)\n",
    "tree.fit(X_train, y_train)"
   ]
  },
  {
   "cell_type": "markdown",
   "metadata": {},
   "source": [
    "The next cell allows us to visualise the fitted tree."
   ]
  },
  {
   "cell_type": "code",
   "execution_count": 19,
   "metadata": {},
   "outputs": [
    {
     "data": {
      "image/svg+xml": [
       "<?xml version=\"1.0\" encoding=\"UTF-8\" standalone=\"no\"?>\r\n",
       "<!DOCTYPE svg PUBLIC \"-//W3C//DTD SVG 1.1//EN\"\r\n",
       " \"http://www.w3.org/Graphics/SVG/1.1/DTD/svg11.dtd\">\r\n",
       "<!-- Generated by graphviz version 2.38.0 (20140413.2041)\r\n",
       " -->\r\n",
       "<!-- Title: Tree Pages: 1 -->\r\n",
       "<svg width=\"626pt\" height=\"269pt\"\r\n",
       " viewBox=\"0.00 0.00 626.00 269.00\" xmlns=\"http://www.w3.org/2000/svg\" xmlns:xlink=\"http://www.w3.org/1999/xlink\">\r\n",
       "<g id=\"graph0\" class=\"graph\" transform=\"scale(1 1) rotate(0) translate(4 265)\">\r\n",
       "<title>Tree</title>\r\n",
       "<polygon fill=\"white\" stroke=\"none\" points=\"-4,4 -4,-265 622,-265 622,4 -4,4\"/>\r\n",
       "<!-- 0 -->\r\n",
       "<g id=\"node1\" class=\"node\"><title>0</title>\r\n",
       "<path fill=\"none\" stroke=\"black\" d=\"M353,-261C353,-261 236,-261 236,-261 230,-261 224,-255 224,-249 224,-249 224,-205 224,-205 224,-199 230,-193 236,-193 236,-193 353,-193 353,-193 359,-193 365,-199 365,-205 365,-205 365,-249 365,-249 365,-255 359,-261 353,-261\"/>\r\n",
       "<text text-anchor=\"middle\" x=\"294.5\" y=\"-245.8\" font-family=\"Helvetica,sans-Serif\" font-size=\"14.00\">status &lt;= 2.5</text>\r\n",
       "<text text-anchor=\"middle\" x=\"294.5\" y=\"-230.8\" font-family=\"Helvetica,sans-Serif\" font-size=\"14.00\">samples = 700</text>\r\n",
       "<text text-anchor=\"middle\" x=\"294.5\" y=\"-215.8\" font-family=\"Helvetica,sans-Serif\" font-size=\"14.00\">value = [490, 210]</text>\r\n",
       "<text text-anchor=\"middle\" x=\"294.5\" y=\"-200.8\" font-family=\"Helvetica,sans-Serif\" font-size=\"14.00\">class = creditworthy</text>\r\n",
       "</g>\r\n",
       "<!-- 1 -->\r\n",
       "<g id=\"node2\" class=\"node\"><title>1</title>\r\n",
       "<path fill=\"none\" stroke=\"black\" d=\"M246,-157C246,-157 129,-157 129,-157 123,-157 117,-151 117,-145 117,-145 117,-101 117,-101 117,-95 123,-89 129,-89 129,-89 246,-89 246,-89 252,-89 258,-95 258,-101 258,-101 258,-145 258,-145 258,-151 252,-157 246,-157\"/>\r\n",
       "<text text-anchor=\"middle\" x=\"187.5\" y=\"-141.8\" font-family=\"Helvetica,sans-Serif\" font-size=\"14.00\">property &lt;= 0.5</text>\r\n",
       "<text text-anchor=\"middle\" x=\"187.5\" y=\"-126.8\" font-family=\"Helvetica,sans-Serif\" font-size=\"14.00\">samples = 365</text>\r\n",
       "<text text-anchor=\"middle\" x=\"187.5\" y=\"-111.8\" font-family=\"Helvetica,sans-Serif\" font-size=\"14.00\">value = [198, 167]</text>\r\n",
       "<text text-anchor=\"middle\" x=\"187.5\" y=\"-96.8\" font-family=\"Helvetica,sans-Serif\" font-size=\"14.00\">class = creditworthy</text>\r\n",
       "</g>\r\n",
       "<!-- 0&#45;&gt;1 -->\r\n",
       "<g id=\"edge1\" class=\"edge\"><title>0&#45;&gt;1</title>\r\n",
       "<path fill=\"none\" stroke=\"black\" d=\"M259.76,-192.884C250.229,-183.798 239.789,-173.845 229.881,-164.4\"/>\r\n",
       "<polygon fill=\"black\" stroke=\"black\" points=\"232.085,-161.666 222.432,-157.299 227.255,-166.733 232.085,-161.666\"/>\r\n",
       "<text text-anchor=\"middle\" x=\"223.03\" y=\"-178.592\" font-family=\"Helvetica,sans-Serif\" font-size=\"14.00\">True</text>\r\n",
       "</g>\r\n",
       "<!-- 4 -->\r\n",
       "<g id=\"node5\" class=\"node\"><title>4</title>\r\n",
       "<path fill=\"none\" stroke=\"black\" d=\"M517,-157C517,-157 288,-157 288,-157 282,-157 276,-151 276,-145 276,-145 276,-101 276,-101 276,-95 282,-89 288,-89 288,-89 517,-89 517,-89 523,-89 529,-95 529,-101 529,-101 529,-145 529,-145 529,-151 523,-157 517,-157\"/>\r\n",
       "<text text-anchor=\"middle\" x=\"402.5\" y=\"-141.8\" font-family=\"Helvetica,sans-Serif\" font-size=\"14.00\">other_installment_plans_A143 &lt;= 0.5</text>\r\n",
       "<text text-anchor=\"middle\" x=\"402.5\" y=\"-126.8\" font-family=\"Helvetica,sans-Serif\" font-size=\"14.00\">samples = 335</text>\r\n",
       "<text text-anchor=\"middle\" x=\"402.5\" y=\"-111.8\" font-family=\"Helvetica,sans-Serif\" font-size=\"14.00\">value = [292, 43]</text>\r\n",
       "<text text-anchor=\"middle\" x=\"402.5\" y=\"-96.8\" font-family=\"Helvetica,sans-Serif\" font-size=\"14.00\">class = creditworthy</text>\r\n",
       "</g>\r\n",
       "<!-- 0&#45;&gt;4 -->\r\n",
       "<g id=\"edge4\" class=\"edge\"><title>0&#45;&gt;4</title>\r\n",
       "<path fill=\"none\" stroke=\"black\" d=\"M329.565,-192.884C339.184,-183.798 349.722,-173.845 359.723,-164.4\"/>\r\n",
       "<polygon fill=\"black\" stroke=\"black\" points=\"362.375,-166.71 367.242,-157.299 357.569,-161.621 362.375,-166.71\"/>\r\n",
       "<text text-anchor=\"middle\" x=\"366.528\" y=\"-178.589\" font-family=\"Helvetica,sans-Serif\" font-size=\"14.00\">False</text>\r\n",
       "</g>\r\n",
       "<!-- 2 -->\r\n",
       "<g id=\"node3\" class=\"node\"><title>2</title>\r\n",
       "<path fill=\"none\" stroke=\"black\" d=\"M101,-53C101,-53 12,-53 12,-53 6,-53 0,-47 0,-41 0,-41 0,-12 0,-12 0,-6 6,-0 12,-0 12,-0 101,-0 101,-0 107,-0 113,-6 113,-12 113,-12 113,-41 113,-41 113,-47 107,-53 101,-53\"/>\r\n",
       "<text text-anchor=\"middle\" x=\"56.5\" y=\"-37.8\" font-family=\"Helvetica,sans-Serif\" font-size=\"14.00\">samples = 68</text>\r\n",
       "<text text-anchor=\"middle\" x=\"56.5\" y=\"-22.8\" font-family=\"Helvetica,sans-Serif\" font-size=\"14.00\">value = [20, 48]</text>\r\n",
       "<text text-anchor=\"middle\" x=\"56.5\" y=\"-7.8\" font-family=\"Helvetica,sans-Serif\" font-size=\"14.00\">class = default</text>\r\n",
       "</g>\r\n",
       "<!-- 1&#45;&gt;2 -->\r\n",
       "<g id=\"edge2\" class=\"edge\"><title>1&#45;&gt;2</title>\r\n",
       "<path fill=\"none\" stroke=\"black\" d=\"M141.683,-88.9485C128.367,-79.3431 113.855,-68.8747 100.645,-59.345\"/>\r\n",
       "<polygon fill=\"black\" stroke=\"black\" points=\"102.335,-56.2486 92.1773,-53.2367 98.2398,-61.9257 102.335,-56.2486\"/>\r\n",
       "</g>\r\n",
       "<!-- 3 -->\r\n",
       "<g id=\"node4\" class=\"node\"><title>3</title>\r\n",
       "<path fill=\"none\" stroke=\"black\" d=\"M260,-53C260,-53 143,-53 143,-53 137,-53 131,-47 131,-41 131,-41 131,-12 131,-12 131,-6 137,-0 143,-0 143,-0 260,-0 260,-0 266,-0 272,-6 272,-12 272,-12 272,-41 272,-41 272,-47 266,-53 260,-53\"/>\r\n",
       "<text text-anchor=\"middle\" x=\"201.5\" y=\"-37.8\" font-family=\"Helvetica,sans-Serif\" font-size=\"14.00\">samples = 297</text>\r\n",
       "<text text-anchor=\"middle\" x=\"201.5\" y=\"-22.8\" font-family=\"Helvetica,sans-Serif\" font-size=\"14.00\">value = [178, 119]</text>\r\n",
       "<text text-anchor=\"middle\" x=\"201.5\" y=\"-7.8\" font-family=\"Helvetica,sans-Serif\" font-size=\"14.00\">class = creditworthy</text>\r\n",
       "</g>\r\n",
       "<!-- 1&#45;&gt;3 -->\r\n",
       "<g id=\"edge3\" class=\"edge\"><title>1&#45;&gt;3</title>\r\n",
       "<path fill=\"none\" stroke=\"black\" d=\"M192.397,-88.9485C193.63,-80.6238 194.959,-71.6509 196.211,-63.2027\"/>\r\n",
       "<polygon fill=\"black\" stroke=\"black\" points=\"199.684,-63.6417 197.687,-53.2367 192.759,-62.6158 199.684,-63.6417\"/>\r\n",
       "</g>\r\n",
       "<!-- 5 -->\r\n",
       "<g id=\"node6\" class=\"node\"><title>5</title>\r\n",
       "<path fill=\"none\" stroke=\"black\" d=\"M447,-53C447,-53 330,-53 330,-53 324,-53 318,-47 318,-41 318,-41 318,-12 318,-12 318,-6 324,-0 330,-0 330,-0 447,-0 447,-0 453,-0 459,-6 459,-12 459,-12 459,-41 459,-41 459,-47 453,-53 447,-53\"/>\r\n",
       "<text text-anchor=\"middle\" x=\"388.5\" y=\"-37.8\" font-family=\"Helvetica,sans-Serif\" font-size=\"14.00\">samples = 59</text>\r\n",
       "<text text-anchor=\"middle\" x=\"388.5\" y=\"-22.8\" font-family=\"Helvetica,sans-Serif\" font-size=\"14.00\">value = [43, 16]</text>\r\n",
       "<text text-anchor=\"middle\" x=\"388.5\" y=\"-7.8\" font-family=\"Helvetica,sans-Serif\" font-size=\"14.00\">class = creditworthy</text>\r\n",
       "</g>\r\n",
       "<!-- 4&#45;&gt;5 -->\r\n",
       "<g id=\"edge5\" class=\"edge\"><title>4&#45;&gt;5</title>\r\n",
       "<path fill=\"none\" stroke=\"black\" d=\"M397.603,-88.9485C396.37,-80.6238 395.041,-71.6509 393.789,-63.2027\"/>\r\n",
       "<polygon fill=\"black\" stroke=\"black\" points=\"397.241,-62.6158 392.313,-53.2367 390.316,-63.6417 397.241,-62.6158\"/>\r\n",
       "</g>\r\n",
       "<!-- 6 -->\r\n",
       "<g id=\"node7\" class=\"node\"><title>6</title>\r\n",
       "<path fill=\"none\" stroke=\"black\" d=\"M606,-53C606,-53 489,-53 489,-53 483,-53 477,-47 477,-41 477,-41 477,-12 477,-12 477,-6 483,-0 489,-0 489,-0 606,-0 606,-0 612,-0 618,-6 618,-12 618,-12 618,-41 618,-41 618,-47 612,-53 606,-53\"/>\r\n",
       "<text text-anchor=\"middle\" x=\"547.5\" y=\"-37.8\" font-family=\"Helvetica,sans-Serif\" font-size=\"14.00\">samples = 276</text>\r\n",
       "<text text-anchor=\"middle\" x=\"547.5\" y=\"-22.8\" font-family=\"Helvetica,sans-Serif\" font-size=\"14.00\">value = [249, 27]</text>\r\n",
       "<text text-anchor=\"middle\" x=\"547.5\" y=\"-7.8\" font-family=\"Helvetica,sans-Serif\" font-size=\"14.00\">class = creditworthy</text>\r\n",
       "</g>\r\n",
       "<!-- 4&#45;&gt;6 -->\r\n",
       "<g id=\"edge6\" class=\"edge\"><title>4&#45;&gt;6</title>\r\n",
       "<path fill=\"none\" stroke=\"black\" d=\"M453.214,-88.9485C468.233,-79.1601 484.627,-68.4756 499.471,-58.8015\"/>\r\n",
       "<polygon fill=\"black\" stroke=\"black\" points=\"501.543,-61.629 508.01,-53.2367 497.721,-55.7645 501.543,-61.629\"/>\r\n",
       "</g>\r\n",
       "</g>\r\n",
       "</svg>\r\n"
      ],
      "text/plain": [
       "<graphviz.files.Source at 0x1b0925e3c50>"
      ]
     },
     "execution_count": 19,
     "metadata": {},
     "output_type": "execute_result"
    }
   ],
   "source": [
    "# You'd need to find the Graphviz path for your computer\n",
    "import os\n",
    "os.environ['PATH'] += os.pathsep + 'C:/Program Files (x86)/Graphviz2.38/bin/'\n",
    "\n",
    "import graphviz\n",
    "from sklearn.tree import export_graphviz\n",
    "\n",
    "dot_data = export_graphviz(tree, out_file=None , impurity=False, feature_names = predictors,\n",
    "                           class_names=['creditworthy','default'], rounded=True) \n",
    "graph = graphviz.Source(dot_data)\n",
    "graph.render('tree01') # saves tree to a file\n",
    "graph"
   ]
  },
  {
   "cell_type": "code",
   "execution_count": 20,
   "metadata": {},
   "outputs": [
    {
     "name": "stdout",
     "output_type": "stream",
     "text": [
      "Best parameters found by grid search: {'min_samples_leaf': 70, 'min_samples_split': 2} \n",
      "\n",
      "Wall time: 792 ms\n"
     ]
    }
   ],
   "source": [
    "%%time\n",
    "\n",
    "model = DecisionTreeClassifier(criterion='entropy')\n",
    "\n",
    "tuning_parameters = {\n",
    "    'min_samples_leaf': [1,5,10,20,30,40,50,60,70,80],\n",
    "    'min_samples_split' : [2,4,8,16,32,64],\n",
    "}\n",
    "\n",
    "tree_search = GridSearchCV(model, tuning_parameters, cv = 5 , scoring='neg_log_loss')\n",
    "tree_search.fit(X_train, y_train)\n",
    "\n",
    "tree = tree_search.best_estimator_\n",
    "\n",
    "print('Best parameters found by grid search:', tree_search.best_params_, '\\n')"
   ]
  },
  {
   "cell_type": "code",
   "execution_count": 21,
   "metadata": {},
   "outputs": [
    {
     "data": {
      "image/svg+xml": [
       "<?xml version=\"1.0\" encoding=\"UTF-8\" standalone=\"no\"?>\r\n",
       "<!DOCTYPE svg PUBLIC \"-//W3C//DTD SVG 1.1//EN\"\r\n",
       " \"http://www.w3.org/Graphics/SVG/1.1/DTD/svg11.dtd\">\r\n",
       "<!-- Generated by graphviz version 2.38.0 (20140413.2041)\r\n",
       " -->\r\n",
       "<!-- Title: Tree Pages: 1 -->\r\n",
       "<svg width=\"919pt\" height=\"477pt\"\r\n",
       " viewBox=\"0.00 0.00 919.00 477.00\" xmlns=\"http://www.w3.org/2000/svg\" xmlns:xlink=\"http://www.w3.org/1999/xlink\">\r\n",
       "<g id=\"graph0\" class=\"graph\" transform=\"scale(1 1) rotate(0) translate(4 473)\">\r\n",
       "<title>Tree</title>\r\n",
       "<polygon fill=\"white\" stroke=\"none\" points=\"-4,4 -4,-473 915,-473 915,4 -4,4\"/>\r\n",
       "<!-- 0 -->\r\n",
       "<g id=\"node1\" class=\"node\"><title>0</title>\r\n",
       "<path fill=\"none\" stroke=\"black\" d=\"M501,-469C501,-469 384,-469 384,-469 378,-469 372,-463 372,-457 372,-457 372,-413 372,-413 372,-407 378,-401 384,-401 384,-401 501,-401 501,-401 507,-401 513,-407 513,-413 513,-413 513,-457 513,-457 513,-463 507,-469 501,-469\"/>\r\n",
       "<text text-anchor=\"middle\" x=\"442.5\" y=\"-453.8\" font-family=\"Helvetica,sans-Serif\" font-size=\"14.00\">status &lt;= 2.5</text>\r\n",
       "<text text-anchor=\"middle\" x=\"442.5\" y=\"-438.8\" font-family=\"Helvetica,sans-Serif\" font-size=\"14.00\">samples = 700</text>\r\n",
       "<text text-anchor=\"middle\" x=\"442.5\" y=\"-423.8\" font-family=\"Helvetica,sans-Serif\" font-size=\"14.00\">value = [490, 210]</text>\r\n",
       "<text text-anchor=\"middle\" x=\"442.5\" y=\"-408.8\" font-family=\"Helvetica,sans-Serif\" font-size=\"14.00\">class = creditworthy</text>\r\n",
       "</g>\r\n",
       "<!-- 1 -->\r\n",
       "<g id=\"node2\" class=\"node\"><title>1</title>\r\n",
       "<path fill=\"none\" stroke=\"black\" d=\"M422,-365C422,-365 305,-365 305,-365 299,-365 293,-359 293,-353 293,-353 293,-309 293,-309 293,-303 299,-297 305,-297 305,-297 422,-297 422,-297 428,-297 434,-303 434,-309 434,-309 434,-353 434,-353 434,-359 428,-365 422,-365\"/>\r\n",
       "<text text-anchor=\"middle\" x=\"363.5\" y=\"-349.8\" font-family=\"Helvetica,sans-Serif\" font-size=\"14.00\">history &lt;= 2.5</text>\r\n",
       "<text text-anchor=\"middle\" x=\"363.5\" y=\"-334.8\" font-family=\"Helvetica,sans-Serif\" font-size=\"14.00\">samples = 365</text>\r\n",
       "<text text-anchor=\"middle\" x=\"363.5\" y=\"-319.8\" font-family=\"Helvetica,sans-Serif\" font-size=\"14.00\">value = [198, 167]</text>\r\n",
       "<text text-anchor=\"middle\" x=\"363.5\" y=\"-304.8\" font-family=\"Helvetica,sans-Serif\" font-size=\"14.00\">class = creditworthy</text>\r\n",
       "</g>\r\n",
       "<!-- 0&#45;&gt;1 -->\r\n",
       "<g id=\"edge1\" class=\"edge\"><title>0&#45;&gt;1</title>\r\n",
       "<path fill=\"none\" stroke=\"black\" d=\"M416.851,-400.884C410.021,-392.065 402.559,-382.43 395.437,-373.235\"/>\r\n",
       "<polygon fill=\"black\" stroke=\"black\" points=\"398.181,-371.062 389.291,-365.299 392.647,-375.349 398.181,-371.062\"/>\r\n",
       "<text text-anchor=\"middle\" x=\"386.139\" y=\"-386.4\" font-family=\"Helvetica,sans-Serif\" font-size=\"14.00\">True</text>\r\n",
       "</g>\r\n",
       "<!-- 8 -->\r\n",
       "<g id=\"node9\" class=\"node\"><title>8</title>\r\n",
       "<path fill=\"none\" stroke=\"black\" d=\"M581,-365C581,-365 464,-365 464,-365 458,-365 452,-359 452,-353 452,-353 452,-309 452,-309 452,-303 458,-297 464,-297 464,-297 581,-297 581,-297 587,-297 593,-303 593,-309 593,-309 593,-353 593,-353 593,-359 587,-365 581,-365\"/>\r\n",
       "<text text-anchor=\"middle\" x=\"522.5\" y=\"-349.8\" font-family=\"Helvetica,sans-Serif\" font-size=\"14.00\">duration &lt;= 16.5</text>\r\n",
       "<text text-anchor=\"middle\" x=\"522.5\" y=\"-334.8\" font-family=\"Helvetica,sans-Serif\" font-size=\"14.00\">samples = 335</text>\r\n",
       "<text text-anchor=\"middle\" x=\"522.5\" y=\"-319.8\" font-family=\"Helvetica,sans-Serif\" font-size=\"14.00\">value = [292, 43]</text>\r\n",
       "<text text-anchor=\"middle\" x=\"522.5\" y=\"-304.8\" font-family=\"Helvetica,sans-Serif\" font-size=\"14.00\">class = creditworthy</text>\r\n",
       "</g>\r\n",
       "<!-- 0&#45;&gt;8 -->\r\n",
       "<g id=\"edge8\" class=\"edge\"><title>0&#45;&gt;8</title>\r\n",
       "<path fill=\"none\" stroke=\"black\" d=\"M468.474,-400.884C475.39,-392.065 482.947,-382.43 490.159,-373.235\"/>\r\n",
       "<polygon fill=\"black\" stroke=\"black\" points=\"492.965,-375.328 496.383,-365.299 487.457,-371.008 492.965,-375.328\"/>\r\n",
       "<text text-anchor=\"middle\" x=\"499.383\" y=\"-386.419\" font-family=\"Helvetica,sans-Serif\" font-size=\"14.00\">False</text>\r\n",
       "</g>\r\n",
       "<!-- 2 -->\r\n",
       "<g id=\"node3\" class=\"node\"><title>2</title>\r\n",
       "<path fill=\"none\" stroke=\"black\" d=\"M263,-261C263,-261 134,-261 134,-261 128,-261 122,-255 122,-249 122,-249 122,-205 122,-205 122,-199 128,-193 134,-193 134,-193 263,-193 263,-193 269,-193 275,-199 275,-205 275,-205 275,-249 275,-249 275,-255 269,-261 263,-261\"/>\r\n",
       "<text text-anchor=\"middle\" x=\"198.5\" y=\"-245.8\" font-family=\"Helvetica,sans-Serif\" font-size=\"14.00\">housing_A152 &lt;= 0.5</text>\r\n",
       "<text text-anchor=\"middle\" x=\"198.5\" y=\"-230.8\" font-family=\"Helvetica,sans-Serif\" font-size=\"14.00\">samples = 250</text>\r\n",
       "<text text-anchor=\"middle\" x=\"198.5\" y=\"-215.8\" font-family=\"Helvetica,sans-Serif\" font-size=\"14.00\">value = [119, 131]</text>\r\n",
       "<text text-anchor=\"middle\" x=\"198.5\" y=\"-200.8\" font-family=\"Helvetica,sans-Serif\" font-size=\"14.00\">class = default</text>\r\n",
       "</g>\r\n",
       "<!-- 1&#45;&gt;2 -->\r\n",
       "<g id=\"edge2\" class=\"edge\"><title>1&#45;&gt;2</title>\r\n",
       "<path fill=\"none\" stroke=\"black\" d=\"M309.929,-296.884C294.288,-287.214 277.059,-276.563 260.92,-266.587\"/>\r\n",
       "<polygon fill=\"black\" stroke=\"black\" points=\"262.43,-263.406 252.084,-261.125 258.75,-269.36 262.43,-263.406\"/>\r\n",
       "</g>\r\n",
       "<!-- 7 -->\r\n",
       "<g id=\"node8\" class=\"node\"><title>7</title>\r\n",
       "<path fill=\"none\" stroke=\"black\" d=\"M422,-253.5C422,-253.5 305,-253.5 305,-253.5 299,-253.5 293,-247.5 293,-241.5 293,-241.5 293,-212.5 293,-212.5 293,-206.5 299,-200.5 305,-200.5 305,-200.5 422,-200.5 422,-200.5 428,-200.5 434,-206.5 434,-212.5 434,-212.5 434,-241.5 434,-241.5 434,-247.5 428,-253.5 422,-253.5\"/>\r\n",
       "<text text-anchor=\"middle\" x=\"363.5\" y=\"-238.3\" font-family=\"Helvetica,sans-Serif\" font-size=\"14.00\">samples = 115</text>\r\n",
       "<text text-anchor=\"middle\" x=\"363.5\" y=\"-223.3\" font-family=\"Helvetica,sans-Serif\" font-size=\"14.00\">value = [79, 36]</text>\r\n",
       "<text text-anchor=\"middle\" x=\"363.5\" y=\"-208.3\" font-family=\"Helvetica,sans-Serif\" font-size=\"14.00\">class = creditworthy</text>\r\n",
       "</g>\r\n",
       "<!-- 1&#45;&gt;7 -->\r\n",
       "<g id=\"edge7\" class=\"edge\"><title>1&#45;&gt;7</title>\r\n",
       "<path fill=\"none\" stroke=\"black\" d=\"M363.5,-296.884C363.5,-286.326 363.5,-274.597 363.5,-263.854\"/>\r\n",
       "<polygon fill=\"black\" stroke=\"black\" points=\"367,-263.52 363.5,-253.52 360,-263.52 367,-263.52\"/>\r\n",
       "</g>\r\n",
       "<!-- 3 -->\r\n",
       "<g id=\"node4\" class=\"node\"><title>3</title>\r\n",
       "<path fill=\"none\" stroke=\"black\" d=\"M101,-149.5C101,-149.5 12,-149.5 12,-149.5 6,-149.5 0,-143.5 0,-137.5 0,-137.5 0,-108.5 0,-108.5 0,-102.5 6,-96.5 12,-96.5 12,-96.5 101,-96.5 101,-96.5 107,-96.5 113,-102.5 113,-108.5 113,-108.5 113,-137.5 113,-137.5 113,-143.5 107,-149.5 101,-149.5\"/>\r\n",
       "<text text-anchor=\"middle\" x=\"56.5\" y=\"-134.3\" font-family=\"Helvetica,sans-Serif\" font-size=\"14.00\">samples = 89</text>\r\n",
       "<text text-anchor=\"middle\" x=\"56.5\" y=\"-119.3\" font-family=\"Helvetica,sans-Serif\" font-size=\"14.00\">value = [28, 61]</text>\r\n",
       "<text text-anchor=\"middle\" x=\"56.5\" y=\"-104.3\" font-family=\"Helvetica,sans-Serif\" font-size=\"14.00\">class = default</text>\r\n",
       "</g>\r\n",
       "<!-- 2&#45;&gt;3 -->\r\n",
       "<g id=\"edge3\" class=\"edge\"><title>2&#45;&gt;3</title>\r\n",
       "<path fill=\"none\" stroke=\"black\" d=\"M152.397,-192.884C135.708,-180.896 116.918,-167.399 100.422,-155.549\"/>\r\n",
       "<polygon fill=\"black\" stroke=\"black\" points=\"102.192,-152.511 92.0277,-149.52 98.1077,-158.197 102.192,-152.511\"/>\r\n",
       "</g>\r\n",
       "<!-- 4 -->\r\n",
       "<g id=\"node5\" class=\"node\"><title>4</title>\r\n",
       "<path fill=\"none\" stroke=\"black\" d=\"M260,-157C260,-157 143,-157 143,-157 137,-157 131,-151 131,-145 131,-145 131,-101 131,-101 131,-95 137,-89 143,-89 143,-89 260,-89 260,-89 266,-89 272,-95 272,-101 272,-101 272,-145 272,-145 272,-151 266,-157 260,-157\"/>\r\n",
       "<text text-anchor=\"middle\" x=\"201.5\" y=\"-141.8\" font-family=\"Helvetica,sans-Serif\" font-size=\"14.00\">status &lt;= 1.5</text>\r\n",
       "<text text-anchor=\"middle\" x=\"201.5\" y=\"-126.8\" font-family=\"Helvetica,sans-Serif\" font-size=\"14.00\">samples = 161</text>\r\n",
       "<text text-anchor=\"middle\" x=\"201.5\" y=\"-111.8\" font-family=\"Helvetica,sans-Serif\" font-size=\"14.00\">value = [91, 70]</text>\r\n",
       "<text text-anchor=\"middle\" x=\"201.5\" y=\"-96.8\" font-family=\"Helvetica,sans-Serif\" font-size=\"14.00\">class = creditworthy</text>\r\n",
       "</g>\r\n",
       "<!-- 2&#45;&gt;4 -->\r\n",
       "<g id=\"edge4\" class=\"edge\"><title>2&#45;&gt;4</title>\r\n",
       "<path fill=\"none\" stroke=\"black\" d=\"M199.474,-192.884C199.712,-184.778 199.971,-175.982 200.221,-167.472\"/>\r\n",
       "<polygon fill=\"black\" stroke=\"black\" points=\"203.725,-167.398 200.521,-157.299 196.728,-167.192 203.725,-167.398\"/>\r\n",
       "</g>\r\n",
       "<!-- 5 -->\r\n",
       "<g id=\"node6\" class=\"node\"><title>5</title>\r\n",
       "<path fill=\"none\" stroke=\"black\" d=\"M173,-53C173,-53 84,-53 84,-53 78,-53 72,-47 72,-41 72,-41 72,-12 72,-12 72,-6 78,-0 84,-0 84,-0 173,-0 173,-0 179,-0 185,-6 185,-12 185,-12 185,-41 185,-41 185,-47 179,-53 173,-53\"/>\r\n",
       "<text text-anchor=\"middle\" x=\"128.5\" y=\"-37.8\" font-family=\"Helvetica,sans-Serif\" font-size=\"14.00\">samples = 79</text>\r\n",
       "<text text-anchor=\"middle\" x=\"128.5\" y=\"-22.8\" font-family=\"Helvetica,sans-Serif\" font-size=\"14.00\">value = [37, 42]</text>\r\n",
       "<text text-anchor=\"middle\" x=\"128.5\" y=\"-7.8\" font-family=\"Helvetica,sans-Serif\" font-size=\"14.00\">class = default</text>\r\n",
       "</g>\r\n",
       "<!-- 4&#45;&gt;5 -->\r\n",
       "<g id=\"edge5\" class=\"edge\"><title>4&#45;&gt;5</title>\r\n",
       "<path fill=\"none\" stroke=\"black\" d=\"M175.968,-88.9485C169.043,-79.9834 161.537,-70.2666 154.581,-61.2629\"/>\r\n",
       "<polygon fill=\"black\" stroke=\"black\" points=\"157.264,-59.0108 148.381,-53.2367 151.725,-63.2902 157.264,-59.0108\"/>\r\n",
       "</g>\r\n",
       "<!-- 6 -->\r\n",
       "<g id=\"node7\" class=\"node\"><title>6</title>\r\n",
       "<path fill=\"none\" stroke=\"black\" d=\"M332,-53C332,-53 215,-53 215,-53 209,-53 203,-47 203,-41 203,-41 203,-12 203,-12 203,-6 209,-0 215,-0 215,-0 332,-0 332,-0 338,-0 344,-6 344,-12 344,-12 344,-41 344,-41 344,-47 338,-53 332,-53\"/>\r\n",
       "<text text-anchor=\"middle\" x=\"273.5\" y=\"-37.8\" font-family=\"Helvetica,sans-Serif\" font-size=\"14.00\">samples = 82</text>\r\n",
       "<text text-anchor=\"middle\" x=\"273.5\" y=\"-22.8\" font-family=\"Helvetica,sans-Serif\" font-size=\"14.00\">value = [54, 28]</text>\r\n",
       "<text text-anchor=\"middle\" x=\"273.5\" y=\"-7.8\" font-family=\"Helvetica,sans-Serif\" font-size=\"14.00\">class = creditworthy</text>\r\n",
       "</g>\r\n",
       "<!-- 4&#45;&gt;6 -->\r\n",
       "<g id=\"edge6\" class=\"edge\"><title>4&#45;&gt;6</title>\r\n",
       "<path fill=\"none\" stroke=\"black\" d=\"M226.682,-88.9485C233.513,-79.9834 240.916,-70.2666 247.776,-61.2629\"/>\r\n",
       "<polygon fill=\"black\" stroke=\"black\" points=\"250.615,-63.3122 253.891,-53.2367 245.047,-59.0699 250.615,-63.3122\"/>\r\n",
       "</g>\r\n",
       "<!-- 9 -->\r\n",
       "<g id=\"node10\" class=\"node\"><title>9</title>\r\n",
       "<path fill=\"none\" stroke=\"black\" d=\"M581,-261C581,-261 464,-261 464,-261 458,-261 452,-255 452,-249 452,-249 452,-205 452,-205 452,-199 458,-193 464,-193 464,-193 581,-193 581,-193 587,-193 593,-199 593,-205 593,-205 593,-249 593,-249 593,-255 587,-261 581,-261\"/>\r\n",
       "<text text-anchor=\"middle\" x=\"522.5\" y=\"-245.8\" font-family=\"Helvetica,sans-Serif\" font-size=\"14.00\">amount &lt;= 1486.0</text>\r\n",
       "<text text-anchor=\"middle\" x=\"522.5\" y=\"-230.8\" font-family=\"Helvetica,sans-Serif\" font-size=\"14.00\">samples = 154</text>\r\n",
       "<text text-anchor=\"middle\" x=\"522.5\" y=\"-215.8\" font-family=\"Helvetica,sans-Serif\" font-size=\"14.00\">value = [143, 11]</text>\r\n",
       "<text text-anchor=\"middle\" x=\"522.5\" y=\"-200.8\" font-family=\"Helvetica,sans-Serif\" font-size=\"14.00\">class = creditworthy</text>\r\n",
       "</g>\r\n",
       "<!-- 8&#45;&gt;9 -->\r\n",
       "<g id=\"edge9\" class=\"edge\"><title>8&#45;&gt;9</title>\r\n",
       "<path fill=\"none\" stroke=\"black\" d=\"M522.5,-296.884C522.5,-288.778 522.5,-279.982 522.5,-271.472\"/>\r\n",
       "<polygon fill=\"black\" stroke=\"black\" points=\"526,-271.299 522.5,-261.299 519,-271.299 526,-271.299\"/>\r\n",
       "</g>\r\n",
       "<!-- 12 -->\r\n",
       "<g id=\"node13\" class=\"node\"><title>12</title>\r\n",
       "<path fill=\"none\" stroke=\"black\" d=\"M740,-261C740,-261 623,-261 623,-261 617,-261 611,-255 611,-249 611,-249 611,-205 611,-205 611,-199 617,-193 623,-193 623,-193 740,-193 740,-193 746,-193 752,-199 752,-205 752,-205 752,-249 752,-249 752,-255 746,-261 740,-261\"/>\r\n",
       "<text text-anchor=\"middle\" x=\"681.5\" y=\"-245.8\" font-family=\"Helvetica,sans-Serif\" font-size=\"14.00\">age &lt;= 31.5</text>\r\n",
       "<text text-anchor=\"middle\" x=\"681.5\" y=\"-230.8\" font-family=\"Helvetica,sans-Serif\" font-size=\"14.00\">samples = 181</text>\r\n",
       "<text text-anchor=\"middle\" x=\"681.5\" y=\"-215.8\" font-family=\"Helvetica,sans-Serif\" font-size=\"14.00\">value = [149, 32]</text>\r\n",
       "<text text-anchor=\"middle\" x=\"681.5\" y=\"-200.8\" font-family=\"Helvetica,sans-Serif\" font-size=\"14.00\">class = creditworthy</text>\r\n",
       "</g>\r\n",
       "<!-- 8&#45;&gt;12 -->\r\n",
       "<g id=\"edge12\" class=\"edge\"><title>8&#45;&gt;12</title>\r\n",
       "<path fill=\"none\" stroke=\"black\" d=\"M574.123,-296.884C589.195,-287.214 605.798,-276.563 621.349,-266.587\"/>\r\n",
       "<polygon fill=\"black\" stroke=\"black\" points=\"623.337,-269.47 629.864,-261.125 619.558,-263.578 623.337,-269.47\"/>\r\n",
       "</g>\r\n",
       "<!-- 10 -->\r\n",
       "<g id=\"node11\" class=\"node\"><title>10</title>\r\n",
       "<path fill=\"none\" stroke=\"black\" d=\"M422,-149.5C422,-149.5 305,-149.5 305,-149.5 299,-149.5 293,-143.5 293,-137.5 293,-137.5 293,-108.5 293,-108.5 293,-102.5 299,-96.5 305,-96.5 305,-96.5 422,-96.5 422,-96.5 428,-96.5 434,-102.5 434,-108.5 434,-108.5 434,-137.5 434,-137.5 434,-143.5 428,-149.5 422,-149.5\"/>\r\n",
       "<text text-anchor=\"middle\" x=\"363.5\" y=\"-134.3\" font-family=\"Helvetica,sans-Serif\" font-size=\"14.00\">samples = 83</text>\r\n",
       "<text text-anchor=\"middle\" x=\"363.5\" y=\"-119.3\" font-family=\"Helvetica,sans-Serif\" font-size=\"14.00\">value = [75, 8]</text>\r\n",
       "<text text-anchor=\"middle\" x=\"363.5\" y=\"-104.3\" font-family=\"Helvetica,sans-Serif\" font-size=\"14.00\">class = creditworthy</text>\r\n",
       "</g>\r\n",
       "<!-- 9&#45;&gt;10 -->\r\n",
       "<g id=\"edge10\" class=\"edge\"><title>9&#45;&gt;10</title>\r\n",
       "<path fill=\"none\" stroke=\"black\" d=\"M470.877,-192.884C451.933,-180.731 430.572,-167.027 411.919,-155.061\"/>\r\n",
       "<polygon fill=\"black\" stroke=\"black\" points=\"413.588,-151.974 403.281,-149.52 409.808,-157.865 413.588,-151.974\"/>\r\n",
       "</g>\r\n",
       "<!-- 11 -->\r\n",
       "<g id=\"node12\" class=\"node\"><title>11</title>\r\n",
       "<path fill=\"none\" stroke=\"black\" d=\"M581,-149.5C581,-149.5 464,-149.5 464,-149.5 458,-149.5 452,-143.5 452,-137.5 452,-137.5 452,-108.5 452,-108.5 452,-102.5 458,-96.5 464,-96.5 464,-96.5 581,-96.5 581,-96.5 587,-96.5 593,-102.5 593,-108.5 593,-108.5 593,-137.5 593,-137.5 593,-143.5 587,-149.5 581,-149.5\"/>\r\n",
       "<text text-anchor=\"middle\" x=\"522.5\" y=\"-134.3\" font-family=\"Helvetica,sans-Serif\" font-size=\"14.00\">samples = 71</text>\r\n",
       "<text text-anchor=\"middle\" x=\"522.5\" y=\"-119.3\" font-family=\"Helvetica,sans-Serif\" font-size=\"14.00\">value = [68, 3]</text>\r\n",
       "<text text-anchor=\"middle\" x=\"522.5\" y=\"-104.3\" font-family=\"Helvetica,sans-Serif\" font-size=\"14.00\">class = creditworthy</text>\r\n",
       "</g>\r\n",
       "<!-- 9&#45;&gt;11 -->\r\n",
       "<g id=\"edge11\" class=\"edge\"><title>9&#45;&gt;11</title>\r\n",
       "<path fill=\"none\" stroke=\"black\" d=\"M522.5,-192.884C522.5,-182.326 522.5,-170.597 522.5,-159.854\"/>\r\n",
       "<polygon fill=\"black\" stroke=\"black\" points=\"526,-159.52 522.5,-149.52 519,-159.52 526,-159.52\"/>\r\n",
       "</g>\r\n",
       "<!-- 13 -->\r\n",
       "<g id=\"node14\" class=\"node\"><title>13</title>\r\n",
       "<path fill=\"none\" stroke=\"black\" d=\"M740,-149.5C740,-149.5 623,-149.5 623,-149.5 617,-149.5 611,-143.5 611,-137.5 611,-137.5 611,-108.5 611,-108.5 611,-102.5 617,-96.5 623,-96.5 623,-96.5 740,-96.5 740,-96.5 746,-96.5 752,-102.5 752,-108.5 752,-108.5 752,-137.5 752,-137.5 752,-143.5 746,-149.5 740,-149.5\"/>\r\n",
       "<text text-anchor=\"middle\" x=\"681.5\" y=\"-134.3\" font-family=\"Helvetica,sans-Serif\" font-size=\"14.00\">samples = 72</text>\r\n",
       "<text text-anchor=\"middle\" x=\"681.5\" y=\"-119.3\" font-family=\"Helvetica,sans-Serif\" font-size=\"14.00\">value = [55, 17]</text>\r\n",
       "<text text-anchor=\"middle\" x=\"681.5\" y=\"-104.3\" font-family=\"Helvetica,sans-Serif\" font-size=\"14.00\">class = creditworthy</text>\r\n",
       "</g>\r\n",
       "<!-- 12&#45;&gt;13 -->\r\n",
       "<g id=\"edge13\" class=\"edge\"><title>12&#45;&gt;13</title>\r\n",
       "<path fill=\"none\" stroke=\"black\" d=\"M681.5,-192.884C681.5,-182.326 681.5,-170.597 681.5,-159.854\"/>\r\n",
       "<polygon fill=\"black\" stroke=\"black\" points=\"685,-159.52 681.5,-149.52 678,-159.52 685,-159.52\"/>\r\n",
       "</g>\r\n",
       "<!-- 14 -->\r\n",
       "<g id=\"node15\" class=\"node\"><title>14</title>\r\n",
       "<path fill=\"none\" stroke=\"black\" d=\"M899,-149.5C899,-149.5 782,-149.5 782,-149.5 776,-149.5 770,-143.5 770,-137.5 770,-137.5 770,-108.5 770,-108.5 770,-102.5 776,-96.5 782,-96.5 782,-96.5 899,-96.5 899,-96.5 905,-96.5 911,-102.5 911,-108.5 911,-108.5 911,-137.5 911,-137.5 911,-143.5 905,-149.5 899,-149.5\"/>\r\n",
       "<text text-anchor=\"middle\" x=\"840.5\" y=\"-134.3\" font-family=\"Helvetica,sans-Serif\" font-size=\"14.00\">samples = 109</text>\r\n",
       "<text text-anchor=\"middle\" x=\"840.5\" y=\"-119.3\" font-family=\"Helvetica,sans-Serif\" font-size=\"14.00\">value = [94, 15]</text>\r\n",
       "<text text-anchor=\"middle\" x=\"840.5\" y=\"-104.3\" font-family=\"Helvetica,sans-Serif\" font-size=\"14.00\">class = creditworthy</text>\r\n",
       "</g>\r\n",
       "<!-- 12&#45;&gt;14 -->\r\n",
       "<g id=\"edge14\" class=\"edge\"><title>12&#45;&gt;14</title>\r\n",
       "<path fill=\"none\" stroke=\"black\" d=\"M733.123,-192.884C752.067,-180.731 773.428,-167.027 792.081,-155.061\"/>\r\n",
       "<polygon fill=\"black\" stroke=\"black\" points=\"794.192,-157.865 800.719,-149.52 790.412,-151.974 794.192,-157.865\"/>\r\n",
       "</g>\r\n",
       "</g>\r\n",
       "</svg>\r\n"
      ],
      "text/plain": [
       "<graphviz.files.Source at 0x1b0925cf780>"
      ]
     },
     "execution_count": 21,
     "metadata": {},
     "output_type": "execute_result"
    }
   ],
   "source": [
    "dot_data = export_graphviz(tree, out_file=None , impurity=False, feature_names = predictors,\n",
    "                           class_names=['creditworthy','default'], rounded=True) \n",
    "graph = graphviz.Source(dot_data)\n",
    "graph.render('tree02') # saves tree to a file\n",
    "graph"
   ]
  },
  {
   "cell_type": "markdown",
   "metadata": {},
   "source": [
    "### 6. Bagging"
   ]
  },
  {
   "cell_type": "code",
   "execution_count": 22,
   "metadata": {},
   "outputs": [
    {
     "data": {
      "text/plain": [
       "BaggingClassifier(base_estimator=DecisionTreeClassifier(class_weight=None, criterion='entropy', max_depth=None,\n",
       "            max_features=None, max_leaf_nodes=None,\n",
       "            min_impurity_decrease=0.0, min_impurity_split=None,\n",
       "            min_samples_leaf=1, min_samples_split=2,\n",
       "            min_weight_fraction_leaf=0.0, presort=False, random_state=None,\n",
       "            splitter='best'),\n",
       "         bootstrap=True, bootstrap_features=False, max_features=1.0,\n",
       "         max_samples=1.0, n_estimators=1000, n_jobs=None, oob_score=False,\n",
       "         random_state=1, verbose=0, warm_start=False)"
      ]
     },
     "execution_count": 22,
     "metadata": {},
     "output_type": "execute_result"
    }
   ],
   "source": [
    "from sklearn.ensemble import BaggingClassifier\n",
    "bag = BaggingClassifier(DecisionTreeClassifier(criterion='entropy'), n_estimators=1000, random_state=1)\n",
    "bag.fit(X_train, y_train)"
   ]
  },
  {
   "cell_type": "markdown",
   "metadata": {},
   "source": [
    "### 7. Random Forest\n",
    "\n",
    "The syntax to fit a [random forest classifier](http://scikit-learn.org/stable/modules/generated/sklearn.ensemble.RandomForestClassifier.html) is the following. "
   ]
  },
  {
   "cell_type": "code",
   "execution_count": 23,
   "metadata": {},
   "outputs": [
    {
     "data": {
      "text/plain": [
       "RandomForestClassifier(bootstrap=True, class_weight=None, criterion='entropy',\n",
       "            max_depth=None, max_features=2, max_leaf_nodes=None,\n",
       "            min_impurity_decrease=0.0, min_impurity_split=None,\n",
       "            min_samples_leaf=5, min_samples_split=2,\n",
       "            min_weight_fraction_leaf=0.0, n_estimators=1000, n_jobs=None,\n",
       "            oob_score=False, random_state=1, verbose=0, warm_start=False)"
      ]
     },
     "execution_count": 23,
     "metadata": {},
     "output_type": "execute_result"
    }
   ],
   "source": [
    "from sklearn.ensemble import  RandomForestClassifier\n",
    "rf = RandomForestClassifier(criterion='entropy', max_features= 2, min_samples_leaf=5, \n",
    "                            n_estimators=1000, random_state=1)\n",
    "rf.fit(X_train, y_train)"
   ]
  },
  {
   "cell_type": "markdown",
   "metadata": {},
   "source": [
    "To tune the random forest, we should select a parameter that controls the size of the trees (such as the minimum number of observations in the leaves) and the number of predictors that are sampled as candidate split variables at each node of a tree.  "
   ]
  },
  {
   "cell_type": "code",
   "execution_count": 32,
   "metadata": {},
   "outputs": [
    {
     "name": "stdout",
     "output_type": "stream",
     "text": [
      "Best parameters found by randomised search: {'min_samples_leaf': 1, 'max_features': 9} \n",
      "\n",
      "Wall time: 3min 15s\n"
     ]
    }
   ],
   "source": [
    "%%time\n",
    "\n",
    "model = RandomForestClassifier(criterion = 'entropy',  n_estimators=1000)\n",
    "\n",
    "tuning_parameters = {\n",
    "    'min_samples_leaf': [1, 5, 10, 20, 50],\n",
    "    'max_features': np.arange(1, X_train.shape[1]),\n",
    "}\n",
    "\n",
    "rf_search = RandomizedSearchCV(model, tuning_parameters, cv = 5, n_iter= 128, n_jobs=4, \n",
    "                               scoring='neg_log_loss', random_state=1)\n",
    "rf_search.fit(X_train, y_train)\n",
    "\n",
    "rf = rf_search.best_estimator_\n",
    "\n",
    "print('Best parameters found by randomised search:', rf_search.best_params_, '\\n')"
   ]
  },
  {
   "cell_type": "markdown",
   "metadata": {},
   "source": [
    "After tuning the random forest, we may want to increase the number of trees to improve accuracy. "
   ]
  },
  {
   "cell_type": "code",
   "execution_count": 33,
   "metadata": {},
   "outputs": [
    {
     "data": {
      "text/plain": [
       "RandomForestClassifier(bootstrap=True, class_weight=None, criterion='entropy',\n",
       "            max_depth=None, max_features=9, max_leaf_nodes=None,\n",
       "            min_impurity_decrease=0.0, min_impurity_split=None,\n",
       "            min_samples_leaf=1, min_samples_split=2,\n",
       "            min_weight_fraction_leaf=0.0, n_estimators=10000, n_jobs=None,\n",
       "            oob_score=False, random_state=1, verbose=0, warm_start=False)"
      ]
     },
     "execution_count": 33,
     "metadata": {},
     "output_type": "execute_result"
    }
   ],
   "source": [
    "rf.n_estimators = 10000\n",
    "rf.random_state = 1\n",
    "rf.fit(X_train, y_train) "
   ]
  },
  {
   "cell_type": "code",
   "execution_count": 26,
   "metadata": {},
   "outputs": [
    {
     "data": {
      "image/png": "[encoded data removed]",
      "text/plain": [
       "<Figure size 648x432 with 1 Axes>"
      ]
     },
     "metadata": {
      "needs_background": "light"
     },
     "output_type": "display_data"
    }
   ],
   "source": [
    "from statlearning import plot_feature_importance\n",
    "\n",
    "plot_feature_importance(rf, predictors)\n",
    "plt.show()"
   ]
  },
  {
   "cell_type": "markdown",
   "metadata": {},
   "source": [
    "### 8. Model Evaluation\n",
    "\n",
    "Our benchmark will be the logistic regression model:"
   ]
  },
  {
   "cell_type": "code",
   "execution_count": 27,
   "metadata": {},
   "outputs": [
    {
     "data": {
      "text/plain": [
       "LogisticRegressionCV(Cs=50, class_weight=None, cv='warn', dual=False,\n",
       "           fit_intercept=True, intercept_scaling=1.0, max_iter=100,\n",
       "           multi_class='warn', n_jobs=None, penalty='l2',\n",
       "           random_state=None, refit=True, scoring='neg_log_loss',\n",
       "           solver='lbfgs', tol=0.0001, verbose=0)"
      ]
     },
     "execution_count": 27,
     "metadata": {},
     "output_type": "execute_result"
    }
   ],
   "source": [
    "from sklearn.linear_model import LogisticRegression\n",
    "logit = LogisticRegression(C=np.inf, solver='lbfgs')\n",
    "logit.fit(X_train_logit, y_train)\n",
    "\n",
    "from sklearn.linear_model import LogisticRegressionCV\n",
    "\n",
    "logit_l1= LogisticRegressionCV(Cs = 50, penalty='l1', solver='liblinear', scoring='neg_log_loss')\n",
    "logit_l1.fit(X_train_logit, y_train)\n",
    "\n",
    "logit_l2= LogisticRegressionCV(Cs = 50, penalty='l2', solver='lbfgs', scoring='neg_log_loss')\n",
    "logit_l2.fit(X_train_logit, y_train)"
   ]
  },
  {
   "cell_type": "markdown",
   "metadata": {},
   "source": [
    "We find that the random forests leads to substantial reduction in the average loss compared to the other methods. The key reason for this is that it has better sensitivity than other methods (that is, it correctly classifies more defaults), without performing substantially worse in terms of specificity (that is, it does not have too many false positives). "
   ]
  },
  {
   "cell_type": "code",
   "execution_count": 34,
   "metadata": {},
   "outputs": [
    {
     "data": {
      "text/html": [
       "<div>\n",
       "<style scoped>\n",
       "    .dataframe tbody tr th:only-of-type {\n",
       "        vertical-align: middle;\n",
       "    }\n",
       "\n",
       "    .dataframe tbody tr th {\n",
       "        vertical-align: top;\n",
       "    }\n",
       "\n",
       "    .dataframe thead th {\n",
       "        text-align: right;\n",
       "    }\n",
       "</style>\n",
       "<table border=\"1\" class=\"dataframe\">\n",
       "  <thead>\n",
       "    <tr style=\"text-align: right;\">\n",
       "      <th></th>\n",
       "      <th>Loss</th>\n",
       "      <th>Sensitivity</th>\n",
       "      <th>Specificity</th>\n",
       "      <th>AUC</th>\n",
       "      <th>Precision</th>\n",
       "    </tr>\n",
       "  </thead>\n",
       "  <tbody>\n",
       "    <tr>\n",
       "      <th>Logistic</th>\n",
       "      <td>0.687</td>\n",
       "      <td>0.767</td>\n",
       "      <td>0.519</td>\n",
       "      <td>0.733</td>\n",
       "      <td>0.406</td>\n",
       "    </tr>\n",
       "    <tr>\n",
       "      <th>Logistic $\\ell_1$</th>\n",
       "      <td>0.603</td>\n",
       "      <td>0.878</td>\n",
       "      <td>0.400</td>\n",
       "      <td>0.742</td>\n",
       "      <td>0.385</td>\n",
       "    </tr>\n",
       "    <tr>\n",
       "      <th>Logistic $\\ell_2$</th>\n",
       "      <td>0.650</td>\n",
       "      <td>0.844</td>\n",
       "      <td>0.405</td>\n",
       "      <td>0.746</td>\n",
       "      <td>0.378</td>\n",
       "    </tr>\n",
       "    <tr>\n",
       "      <th>Decision Tree</th>\n",
       "      <td>0.653</td>\n",
       "      <td>0.844</td>\n",
       "      <td>0.400</td>\n",
       "      <td>0.687</td>\n",
       "      <td>0.376</td>\n",
       "    </tr>\n",
       "    <tr>\n",
       "      <th>Bagged trees</th>\n",
       "      <td>0.607</td>\n",
       "      <td>0.856</td>\n",
       "      <td>0.443</td>\n",
       "      <td>0.751</td>\n",
       "      <td>0.397</td>\n",
       "    </tr>\n",
       "    <tr>\n",
       "      <th>Random forest</th>\n",
       "      <td>0.537</td>\n",
       "      <td>0.911</td>\n",
       "      <td>0.424</td>\n",
       "      <td>0.752</td>\n",
       "      <td>0.404</td>\n",
       "    </tr>\n",
       "  </tbody>\n",
       "</table>\n",
       "</div>"
      ],
      "text/plain": [
       "                    Loss  Sensitivity  Specificity    AUC  Precision\n",
       "Logistic           0.687        0.767        0.519  0.733      0.406\n",
       "Logistic $\\ell_1$  0.603        0.878        0.400  0.742      0.385\n",
       "Logistic $\\ell_2$  0.650        0.844        0.405  0.746      0.378\n",
       "Decision Tree      0.653        0.844        0.400  0.687      0.376\n",
       "Bagged trees       0.607        0.856        0.443  0.751      0.397\n",
       "Random forest      0.537        0.911        0.424  0.752      0.404"
      ]
     },
     "execution_count": 34,
     "metadata": {},
     "output_type": "execute_result"
    }
   ],
   "source": [
    "columns=['Loss', 'Sensitivity', 'Specificity', 'AUC', 'Precision']\n",
    "rows=['Logistic', 'Logistic $\\ell_1$', 'Logistic $\\ell_2$', 'Decision Tree', 'Bagged trees', 'Random forest']\n",
    "results=pd.DataFrame(0.0, columns=columns, index=rows) \n",
    "\n",
    "methods=[logit, logit_l1, logit_l2, tree, bag, rf]\n",
    "\n",
    "y_prob = np.zeros((len(y_test), len(rows)))\n",
    "\n",
    "for i, method in enumerate(methods):\n",
    "    \n",
    "    if i<=2:\n",
    "        y_prob[:, i] = method.predict_proba(X_test_logit)[:,1]\n",
    "    else: \n",
    "        y_prob[:, i] = method.predict_proba(X_test)[:,1]\n",
    "\n",
    "    y_pred = (y_prob[:, i]>tau).astype(int)\n",
    "    \n",
    "    tn, fp, fn, tp = confusion_matrix(y_test, y_pred).ravel() \n",
    "\n",
    "    results.iloc[i,0]=  (fp*1+fn*5)/len(y_test)\n",
    "    results.iloc[i,1]=  tp/(tp+fn)\n",
    "    results.iloc[i,2]=  tn/(tn+fp)\n",
    "    results.iloc[i,3]=  roc_auc_score(y_test, y_prob[:,i])\n",
    "    results.iloc[i,4]=  precision_score(y_test, y_pred)\n",
    "   \n",
    "\n",
    "results.round(3)"
   ]
  },
  {
   "cell_type": "code",
   "execution_count": 29,
   "metadata": {},
   "outputs": [
    {
     "data": {
      "image/png": "[encoded data removed]",
      "text/plain": [
       "<Figure size 648x432 with 1 Axes>"
      ]
     },
     "metadata": {
      "needs_background": "light"
     },
     "output_type": "display_data"
    }
   ],
   "source": [
    "from statlearning import plot_roc_curves\n",
    "\n",
    "fig, ax = plot_roc_curves(y_test, y_prob[:,[0,1,3,4,5]], labels=pd.Series(rows).iloc[[0,1,3,4,5]])\n",
    "plt.show()"
   ]
  },
  {
   "cell_type": "markdown",
   "metadata": {},
   "source": [
    "### 9. Exercises\n",
    "\n",
    "If you're looking for a challenge:\n",
    "\n",
    "(a) Experiment with variations on the feature engineering. For example, the status predictor was the most important variable for the random forest. What happens if you try one-hot encoding instead of ordinal encoding for this variable?\n",
    "\n",
    "(b) Experiment with [probability calibration](https://scikit-learn.org/stable/modules/calibration.html#calibration). You can the [CalibratedClassifierCV](https://scikit-learn.org/stable/modules/generated/sklearn.calibration.CalibratedClassifierCV.html#sklearn.calibration.CalibratedClassifierCV) class for this.\n",
    "\n",
    "(c) Analyse the [reliability curves](https://scikit-learn.org/stable/modules/generated/sklearn.calibration.calibration_curve.html#sklearn.calibration.calibration_curve) for different methods.\n",
    "\n",
    "\n",
    "Use the test set from the previous sections as a validation set for these exercises."
   ]
  },
  {
   "cell_type": "markdown",
   "metadata": {},
   "source": [
    "### Formatting\n",
    "\n",
    "These two cells below format the notebook for display online. Please omit them from your work."
   ]
  },
  {
   "cell_type": "code",
   "execution_count": 30,
   "metadata": {},
   "outputs": [
    {
     "data": {
      "text/html": [
       "<style>\n",
       "@import url('https://fonts.googleapis.com/css?family=Source+Sans+Pro|Open+Sans:800&display=swap');\n",
       "</style>\n"
      ],
      "text/plain": [
       "<IPython.core.display.HTML object>"
      ]
     },
     "metadata": {},
     "output_type": "display_data"
    }
   ],
   "source": [
    "%%html\n",
    "<style>\n",
    "@import url('https://fonts.googleapis.com/css?family=Source+Sans+Pro|Open+Sans:800&display=swap');\n",
    "</style>"
   ]
  },
  {
   "cell_type": "code",
   "execution_count": 31,
   "metadata": {},
   "outputs": [
    {
     "data": {
      "text/html": [
       "<style>.CodeMirror pre {font-family: monospace; font-size: 12pt; line-height: 22.4px;}\n",
       "\n",
       "pre {font-family: monospace; font-size: 12pt; line-height: 22.4px;}\n",
       "\n",
       ".output_area pre {font-family: monospace; font-size: 12pt; line-height: 22.4px;}\n",
       "\n",
       ".rendered_html table {font-size: 10.5pt;}\n",
       "\n",
       "h1 {\n",
       "  font-family: 'Open Sans' !important;\n",
       "  color: #222;\n",
       "  font-size: 2.5em !important;\n",
       "  padding-bottom: 0px;  \n",
       "  margin-top: 14px;\n",
       "  margin-bottom: 6px;\n",
       "  font-weight: 800 !important;\n",
       "}\n",
       "\n",
       "\n",
       "h2 {\n",
       "  font-family: 'Open Sans' !important;\n",
       "  font-size: 1.6em !important;\n",
       "  font-weight: 800 !important;\n",
       "  color: #222;\n",
       "}\n",
       "\n",
       "\n",
       "h3 {\n",
       "  font-family: 'Open Sans' !important;\n",
       "  font-size: 25px !important;\n",
       "  color: #222 !important;\n",
       "  margin-bottom: 30px !important;\n",
       "  margin-top: 25px !important;\n",
       "}\n",
       "\n",
       "\n",
       "p {\n",
       "  font-family: 'Source Sans Pro', sans-serif;\n",
       "  color: #222;\n",
       "  font-size: 19px;\n",
       "  margin-bottom: 10px;\n",
       "  margin-top:0;\n",
       "  line-height: 1.4;\n",
       "}\n",
       "\n",
       "li {\n",
       "  font-family: 'Source Sans Pro', sans-serif;\n",
       "  color: #222;\n",
       "  font-size: 19px;\n",
       "  line-height: 1.4;\n",
       "}\n",
       "\n",
       "\n",
       "\n",
       "/*code {\n",
       "     padding: 2px 4px !important; \n",
       "     font-size: 90% !important;\n",
       "     color: #c7254e !important; \n",
       "     background-color: #f9f2f4 !important; \n",
       "     border-radius: 2px !important;\n",
       "     text-decoration: none !important;\n",
       "      font-size: 90% !important;\n",
       "}\n",
       "*/\n",
       "\n",
       "\n",
       "code {\n",
       "      font-size: 90% !important;\n",
       "/*      border-style: solid !important;\n",
       "      border-width: 1px !important;\n",
       "      border-color :#cccccc !important;*/\n",
       "}\n",
       "\n",
       "TT {\n",
       "      font-family: monospace;\n",
       "      font-size: 95% !important;\n",
       "}\n",
       "\n",
       "\n",
       "\n",
       "a.neutral {\n",
       "  text-decoration: none !important;\n",
       "  border-style: dotted !important;\n",
       "  border-width: 1px !important;\n",
       "  border-color :#cccccc !important;\n",
       "\n",
       "}\n",
       "\n",
       "</style>"
      ],
      "text/plain": [
       "<IPython.core.display.HTML object>"
      ]
     },
     "execution_count": 31,
     "metadata": {},
     "output_type": "execute_result"
    }
   ],
   "source": [
    "from IPython.core.display import HTML\n",
    "style = open('jstyle.css', \"r\").read()\n",
    "HTML('<style>'+ style +'</style>')"
   ]
  }
 ],
 "metadata": {
  "kernelspec": {
   "display_name": "Python 3",
   "language": "python",
   "name": "python3"
  },
  "language_info": {
   "codemirror_mode": {
    "name": "ipython",
    "version": 3
   },
   "file_extension": ".py",
   "mimetype": "text/x-python",
   "name": "python",
   "nbconvert_exporter": "python",
   "pygments_lexer": "ipython3",
   "version": "3.7.3"
  }
 },
 "nbformat": 4,
 "nbformat_minor": 2
}
